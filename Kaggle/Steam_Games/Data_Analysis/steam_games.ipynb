{
 "cells": [
  {
   "cell_type": "code",
   "execution_count": 5,
   "id": "bbf179d9",
   "metadata": {},
   "outputs": [],
   "source": [
    "import pandas as pd\n",
    "import numpy as np\n",
    "import matplotlib.pyplot as plt\n",
    "import seaborn as sns"
   ]
  },
  {
   "cell_type": "code",
   "execution_count": 6,
   "id": "e1c58b6b",
   "metadata": {},
   "outputs": [
    {
     "data": {
      "application/vnd.microsoft.datawrangler.viewer.v0+json": {
       "columns": [
        {
         "name": "index",
         "rawType": "int64",
         "type": "integer"
        },
        {
         "name": "steam_appid",
         "rawType": "int64",
         "type": "integer"
        },
        {
         "name": "name",
         "rawType": "object",
         "type": "string"
        },
        {
         "name": "developers",
         "rawType": "object",
         "type": "string"
        },
        {
         "name": "publishers",
         "rawType": "object",
         "type": "string"
        },
        {
         "name": "categories",
         "rawType": "object",
         "type": "string"
        },
        {
         "name": "genres",
         "rawType": "object",
         "type": "string"
        },
        {
         "name": "required_age",
         "rawType": "int64",
         "type": "integer"
        },
        {
         "name": "n_achievements",
         "rawType": "int64",
         "type": "integer"
        },
        {
         "name": "platforms",
         "rawType": "object",
         "type": "string"
        },
        {
         "name": "is_released",
         "rawType": "bool",
         "type": "boolean"
        },
        {
         "name": "release_date",
         "rawType": "object",
         "type": "string"
        },
        {
         "name": "additional_content",
         "rawType": "object",
         "type": "string"
        },
        {
         "name": "total_reviews",
         "rawType": "int64",
         "type": "integer"
        },
        {
         "name": "total_positive",
         "rawType": "int64",
         "type": "integer"
        },
        {
         "name": "total_negative",
         "rawType": "int64",
         "type": "integer"
        },
        {
         "name": "review_score",
         "rawType": "float64",
         "type": "float"
        },
        {
         "name": "review_score_desc",
         "rawType": "object",
         "type": "string"
        },
        {
         "name": "positive_percentual",
         "rawType": "float64",
         "type": "float"
        },
        {
         "name": "metacritic",
         "rawType": "int64",
         "type": "integer"
        },
        {
         "name": "is_free",
         "rawType": "bool",
         "type": "boolean"
        },
        {
         "name": "price_initial (USD)",
         "rawType": "float64",
         "type": "float"
        }
       ],
       "ref": "3b194d1e-8b24-4ad0-9bc6-ef26919afe59",
       "rows": [
        [
         "0",
         "2719580",
         "勇者の伝説の勇者",
         "['ぽけそう']",
         "['ぽけそう']",
         "['Single-player', 'Family Sharing']",
         "['Casual', 'Indie']",
         "0",
         "0",
         "['windows']",
         "True",
         "2024-01-04",
         "[]",
         "0",
         "0",
         "0",
         "0.0",
         "No user reviews",
         "0.0",
         "0",
         "False",
         "0.99"
        ],
        [
         "1",
         "2719590",
         "Light No Fire",
         "['Hello Games']",
         "['Hello Games']",
         "['Single-player', 'Multi-player', 'Co-op', 'Online Co-op']",
         "['Action', 'Adventure']",
         "0",
         "0",
         "['windows']",
         "False",
         "Not Released",
         "[]",
         "0",
         "0",
         "0",
         "0.0",
         "No user reviews",
         "0.0",
         "0",
         "False",
         "0.0"
        ],
        [
         "2",
         "2719600",
         "Lorhaven: Cursed War",
         "['GoldenGod Games']",
         "['GoldenGod Games']",
         "['Single-player', 'Multi-player', 'PvP', 'Shared/Split Screen PvP', 'Co-op', 'Shared/Split Screen Co-op', 'Shared/Split Screen', 'Steam Achievements', 'Includes level editor', 'Remote Play Together', 'Family Sharing']",
         "['RPG', 'Strategy']",
         "0",
         "32",
         "['windows', 'mac']",
         "True",
         "2024-01-26",
         "[]",
         "9",
         "8",
         "1",
         "0.0",
         "9 user reviews",
         "88.9",
         "0",
         "False",
         "9.99"
        ],
        [
         "3",
         "2719610",
         "PUIQ: Demons",
         "['Giammnn']",
         "['Giammnn']",
         "['Single-player', 'Steam Achievements', 'Family Sharing']",
         "['Action', 'Casual', 'Indie', 'RPG']",
         "0",
         "28",
         "['windows']",
         "True",
         "2024-02-17",
         "[]",
         "0",
         "0",
         "0",
         "0.0",
         "No user reviews",
         "0.0",
         "0",
         "False",
         "2.99"
        ],
        [
         "4",
         "2719650",
         "Project XSTING",
         "['Saucy Melon']",
         "['Saucy Melon']",
         "['Single-player', 'Steam Achievements', 'Steam Cloud', 'Family Sharing']",
         "['Action', 'Casual', 'Indie', 'Early Access']",
         "0",
         "42",
         "['windows']",
         "True",
         "2024-01-05",
         "[]",
         "9",
         "9",
         "0",
         "0.0",
         "9 user reviews",
         "100.0",
         "0",
         "False",
         "7.99"
        ]
       ],
       "shape": {
        "columns": 21,
        "rows": 5
       }
      },
      "text/html": [
       "<div>\n",
       "<style scoped>\n",
       "    .dataframe tbody tr th:only-of-type {\n",
       "        vertical-align: middle;\n",
       "    }\n",
       "\n",
       "    .dataframe tbody tr th {\n",
       "        vertical-align: top;\n",
       "    }\n",
       "\n",
       "    .dataframe thead th {\n",
       "        text-align: right;\n",
       "    }\n",
       "</style>\n",
       "<table border=\"1\" class=\"dataframe\">\n",
       "  <thead>\n",
       "    <tr style=\"text-align: right;\">\n",
       "      <th></th>\n",
       "      <th>steam_appid</th>\n",
       "      <th>name</th>\n",
       "      <th>developers</th>\n",
       "      <th>publishers</th>\n",
       "      <th>categories</th>\n",
       "      <th>genres</th>\n",
       "      <th>required_age</th>\n",
       "      <th>n_achievements</th>\n",
       "      <th>platforms</th>\n",
       "      <th>is_released</th>\n",
       "      <th>...</th>\n",
       "      <th>additional_content</th>\n",
       "      <th>total_reviews</th>\n",
       "      <th>total_positive</th>\n",
       "      <th>total_negative</th>\n",
       "      <th>review_score</th>\n",
       "      <th>review_score_desc</th>\n",
       "      <th>positive_percentual</th>\n",
       "      <th>metacritic</th>\n",
       "      <th>is_free</th>\n",
       "      <th>price_initial (USD)</th>\n",
       "    </tr>\n",
       "  </thead>\n",
       "  <tbody>\n",
       "    <tr>\n",
       "      <th>0</th>\n",
       "      <td>2719580</td>\n",
       "      <td>勇者の伝説の勇者</td>\n",
       "      <td>['ぽけそう']</td>\n",
       "      <td>['ぽけそう']</td>\n",
       "      <td>['Single-player', 'Family Sharing']</td>\n",
       "      <td>['Casual', 'Indie']</td>\n",
       "      <td>0</td>\n",
       "      <td>0</td>\n",
       "      <td>['windows']</td>\n",
       "      <td>True</td>\n",
       "      <td>...</td>\n",
       "      <td>[]</td>\n",
       "      <td>0</td>\n",
       "      <td>0</td>\n",
       "      <td>0</td>\n",
       "      <td>0.0</td>\n",
       "      <td>No user reviews</td>\n",
       "      <td>0.0</td>\n",
       "      <td>0</td>\n",
       "      <td>False</td>\n",
       "      <td>0.99</td>\n",
       "    </tr>\n",
       "    <tr>\n",
       "      <th>1</th>\n",
       "      <td>2719590</td>\n",
       "      <td>Light No Fire</td>\n",
       "      <td>['Hello Games']</td>\n",
       "      <td>['Hello Games']</td>\n",
       "      <td>['Single-player', 'Multi-player', 'Co-op', 'On...</td>\n",
       "      <td>['Action', 'Adventure']</td>\n",
       "      <td>0</td>\n",
       "      <td>0</td>\n",
       "      <td>['windows']</td>\n",
       "      <td>False</td>\n",
       "      <td>...</td>\n",
       "      <td>[]</td>\n",
       "      <td>0</td>\n",
       "      <td>0</td>\n",
       "      <td>0</td>\n",
       "      <td>0.0</td>\n",
       "      <td>No user reviews</td>\n",
       "      <td>0.0</td>\n",
       "      <td>0</td>\n",
       "      <td>False</td>\n",
       "      <td>0.00</td>\n",
       "    </tr>\n",
       "    <tr>\n",
       "      <th>2</th>\n",
       "      <td>2719600</td>\n",
       "      <td>Lorhaven: Cursed War</td>\n",
       "      <td>['GoldenGod Games']</td>\n",
       "      <td>['GoldenGod Games']</td>\n",
       "      <td>['Single-player', 'Multi-player', 'PvP', 'Shar...</td>\n",
       "      <td>['RPG', 'Strategy']</td>\n",
       "      <td>0</td>\n",
       "      <td>32</td>\n",
       "      <td>['windows', 'mac']</td>\n",
       "      <td>True</td>\n",
       "      <td>...</td>\n",
       "      <td>[]</td>\n",
       "      <td>9</td>\n",
       "      <td>8</td>\n",
       "      <td>1</td>\n",
       "      <td>0.0</td>\n",
       "      <td>9 user reviews</td>\n",
       "      <td>88.9</td>\n",
       "      <td>0</td>\n",
       "      <td>False</td>\n",
       "      <td>9.99</td>\n",
       "    </tr>\n",
       "    <tr>\n",
       "      <th>3</th>\n",
       "      <td>2719610</td>\n",
       "      <td>PUIQ: Demons</td>\n",
       "      <td>['Giammnn']</td>\n",
       "      <td>['Giammnn']</td>\n",
       "      <td>['Single-player', 'Steam Achievements', 'Famil...</td>\n",
       "      <td>['Action', 'Casual', 'Indie', 'RPG']</td>\n",
       "      <td>0</td>\n",
       "      <td>28</td>\n",
       "      <td>['windows']</td>\n",
       "      <td>True</td>\n",
       "      <td>...</td>\n",
       "      <td>[]</td>\n",
       "      <td>0</td>\n",
       "      <td>0</td>\n",
       "      <td>0</td>\n",
       "      <td>0.0</td>\n",
       "      <td>No user reviews</td>\n",
       "      <td>0.0</td>\n",
       "      <td>0</td>\n",
       "      <td>False</td>\n",
       "      <td>2.99</td>\n",
       "    </tr>\n",
       "    <tr>\n",
       "      <th>4</th>\n",
       "      <td>2719650</td>\n",
       "      <td>Project XSTING</td>\n",
       "      <td>['Saucy Melon']</td>\n",
       "      <td>['Saucy Melon']</td>\n",
       "      <td>['Single-player', 'Steam Achievements', 'Steam...</td>\n",
       "      <td>['Action', 'Casual', 'Indie', 'Early Access']</td>\n",
       "      <td>0</td>\n",
       "      <td>42</td>\n",
       "      <td>['windows']</td>\n",
       "      <td>True</td>\n",
       "      <td>...</td>\n",
       "      <td>[]</td>\n",
       "      <td>9</td>\n",
       "      <td>9</td>\n",
       "      <td>0</td>\n",
       "      <td>0.0</td>\n",
       "      <td>9 user reviews</td>\n",
       "      <td>100.0</td>\n",
       "      <td>0</td>\n",
       "      <td>False</td>\n",
       "      <td>7.99</td>\n",
       "    </tr>\n",
       "  </tbody>\n",
       "</table>\n",
       "<p>5 rows × 21 columns</p>\n",
       "</div>"
      ],
      "text/plain": [
       "   steam_appid                  name           developers  \\\n",
       "0      2719580              勇者の伝説の勇者             ['ぽけそう']   \n",
       "1      2719590         Light No Fire      ['Hello Games']   \n",
       "2      2719600  Lorhaven: Cursed War  ['GoldenGod Games']   \n",
       "3      2719610          PUIQ: Demons          ['Giammnn']   \n",
       "4      2719650        Project XSTING      ['Saucy Melon']   \n",
       "\n",
       "            publishers                                         categories  \\\n",
       "0             ['ぽけそう']                ['Single-player', 'Family Sharing']   \n",
       "1      ['Hello Games']  ['Single-player', 'Multi-player', 'Co-op', 'On...   \n",
       "2  ['GoldenGod Games']  ['Single-player', 'Multi-player', 'PvP', 'Shar...   \n",
       "3          ['Giammnn']  ['Single-player', 'Steam Achievements', 'Famil...   \n",
       "4      ['Saucy Melon']  ['Single-player', 'Steam Achievements', 'Steam...   \n",
       "\n",
       "                                          genres  required_age  \\\n",
       "0                            ['Casual', 'Indie']             0   \n",
       "1                        ['Action', 'Adventure']             0   \n",
       "2                            ['RPG', 'Strategy']             0   \n",
       "3           ['Action', 'Casual', 'Indie', 'RPG']             0   \n",
       "4  ['Action', 'Casual', 'Indie', 'Early Access']             0   \n",
       "\n",
       "   n_achievements           platforms  is_released  ... additional_content  \\\n",
       "0               0         ['windows']         True  ...                 []   \n",
       "1               0         ['windows']        False  ...                 []   \n",
       "2              32  ['windows', 'mac']         True  ...                 []   \n",
       "3              28         ['windows']         True  ...                 []   \n",
       "4              42         ['windows']         True  ...                 []   \n",
       "\n",
       "  total_reviews  total_positive  total_negative  review_score  \\\n",
       "0             0               0               0           0.0   \n",
       "1             0               0               0           0.0   \n",
       "2             9               8               1           0.0   \n",
       "3             0               0               0           0.0   \n",
       "4             9               9               0           0.0   \n",
       "\n",
       "   review_score_desc positive_percentual  metacritic  is_free  \\\n",
       "0    No user reviews                 0.0           0    False   \n",
       "1    No user reviews                 0.0           0    False   \n",
       "2     9 user reviews                88.9           0    False   \n",
       "3    No user reviews                 0.0           0    False   \n",
       "4     9 user reviews               100.0           0    False   \n",
       "\n",
       "   price_initial (USD)  \n",
       "0                 0.99  \n",
       "1                 0.00  \n",
       "2                 9.99  \n",
       "3                 2.99  \n",
       "4                 7.99  \n",
       "\n",
       "[5 rows x 21 columns]"
      ]
     },
     "execution_count": 6,
     "metadata": {},
     "output_type": "execute_result"
    }
   ],
   "source": [
    "data = pd.read_csv(\"../Datasets/steam_games.csv\")\n",
    "data.head()"
   ]
  },
  {
   "cell_type": "code",
   "execution_count": 7,
   "id": "3b6e8fb7",
   "metadata": {},
   "outputs": [
    {
     "data": {
      "application/vnd.microsoft.datawrangler.viewer.v0+json": {
       "columns": [
        {
         "name": "index",
         "rawType": "object",
         "type": "string"
        },
        {
         "name": "0",
         "rawType": "int64",
         "type": "integer"
        }
       ],
       "ref": "3863b18d-4d02-4a2f-8662-8fb6aa3f2da8",
       "rows": [
        [
         "steam_appid",
         "0"
        ],
        [
         "name",
         "0"
        ],
        [
         "developers",
         "0"
        ],
        [
         "publishers",
         "0"
        ],
        [
         "categories",
         "0"
        ],
        [
         "genres",
         "0"
        ],
        [
         "required_age",
         "0"
        ],
        [
         "n_achievements",
         "0"
        ],
        [
         "platforms",
         "0"
        ],
        [
         "is_released",
         "0"
        ],
        [
         "release_date",
         "0"
        ],
        [
         "additional_content",
         "0"
        ],
        [
         "total_reviews",
         "0"
        ],
        [
         "total_positive",
         "0"
        ],
        [
         "total_negative",
         "0"
        ],
        [
         "review_score",
         "0"
        ],
        [
         "review_score_desc",
         "0"
        ],
        [
         "positive_percentual",
         "0"
        ],
        [
         "metacritic",
         "0"
        ],
        [
         "is_free",
         "0"
        ],
        [
         "price_initial (USD)",
         "0"
        ]
       ],
       "shape": {
        "columns": 1,
        "rows": 21
       }
      },
      "text/plain": [
       "steam_appid            0\n",
       "name                   0\n",
       "developers             0\n",
       "publishers             0\n",
       "categories             0\n",
       "genres                 0\n",
       "required_age           0\n",
       "n_achievements         0\n",
       "platforms              0\n",
       "is_released            0\n",
       "release_date           0\n",
       "additional_content     0\n",
       "total_reviews          0\n",
       "total_positive         0\n",
       "total_negative         0\n",
       "review_score           0\n",
       "review_score_desc      0\n",
       "positive_percentual    0\n",
       "metacritic             0\n",
       "is_free                0\n",
       "price_initial (USD)    0\n",
       "dtype: int64"
      ]
     },
     "execution_count": 7,
     "metadata": {},
     "output_type": "execute_result"
    }
   ],
   "source": [
    "data.isnull().sum()"
   ]
  },
  {
   "cell_type": "code",
   "execution_count": 8,
   "id": "95e1213e",
   "metadata": {},
   "outputs": [
    {
     "data": {
      "application/vnd.microsoft.datawrangler.viewer.v0+json": {
       "columns": [
        {
         "name": "index",
         "rawType": "object",
         "type": "string"
        },
        {
         "name": "steam_appid",
         "rawType": "float64",
         "type": "float"
        },
        {
         "name": "required_age",
         "rawType": "float64",
         "type": "float"
        },
        {
         "name": "n_achievements",
         "rawType": "float64",
         "type": "float"
        },
        {
         "name": "total_reviews",
         "rawType": "float64",
         "type": "float"
        },
        {
         "name": "total_positive",
         "rawType": "float64",
         "type": "float"
        },
        {
         "name": "total_negative",
         "rawType": "float64",
         "type": "float"
        },
        {
         "name": "review_score",
         "rawType": "float64",
         "type": "float"
        },
        {
         "name": "positive_percentual",
         "rawType": "float64",
         "type": "float"
        },
        {
         "name": "metacritic",
         "rawType": "float64",
         "type": "float"
        },
        {
         "name": "price_initial (USD)",
         "rawType": "float64",
         "type": "float"
        }
       ],
       "ref": "11a0e848-9499-4787-b1a1-fad0ae3b77fa",
       "rows": [
        [
         "count",
         "71429.0",
         "71429.0",
         "71429.0",
         "71429.0",
         "71429.0",
         "71429.0",
         "71429.0",
         "71429.0",
         "71429.0",
         "71429.0"
        ],
        [
         "mean",
         "1613700.0353637878",
         "2.573226560640636",
         "16.079477523134862",
         "410.24973050161697",
         "360.22384465693204",
         "50.02588584468493",
         "2.1928488429069426",
         "46.11329012025927",
         "2.573226560640636",
         "6.528184350893896"
        ],
        [
         "std",
         "862555.9419133882",
         "13.591996662655204",
         "138.0843187169275",
         "8389.933637398917",
         "7409.67204363308",
         "1171.0553489724393",
         "3.175885355397408",
         "41.96170234520227",
         "13.591996662655204",
         "13.186426471881733"
        ],
        [
         "min",
         "730.0",
         "0.0",
         "0.0",
         "0.0",
         "0.0",
         "0.0",
         "0.0",
         "0.0",
         "0.0",
         "0.0"
        ],
        [
         "25%",
         "929640.0",
         "0.0",
         "0.0",
         "0.0",
         "0.0",
         "0.0",
         "0.0",
         "0.0",
         "0.0",
         "0.0"
        ],
        [
         "50%",
         "1533470.0",
         "0.0",
         "0.0",
         "2.0",
         "2.0",
         "0.0",
         "0.0",
         "50.0",
         "0.0",
         "2.99"
        ],
        [
         "75%",
         "2383530.0",
         "0.0",
         "16.0",
         "19.0",
         "14.0",
         "4.0",
         "5.0",
         "88.0",
         "0.0",
         "9.99"
        ],
        [
         "max",
         "3430140.0",
         "97.0",
         "9821.0",
         "1279700.0",
         "1107275.0",
         "172425.0",
         "9.0",
         "100.0",
         "97.0",
         "999.98"
        ]
       ],
       "shape": {
        "columns": 10,
        "rows": 8
       }
      },
      "text/html": [
       "<div>\n",
       "<style scoped>\n",
       "    .dataframe tbody tr th:only-of-type {\n",
       "        vertical-align: middle;\n",
       "    }\n",
       "\n",
       "    .dataframe tbody tr th {\n",
       "        vertical-align: top;\n",
       "    }\n",
       "\n",
       "    .dataframe thead th {\n",
       "        text-align: right;\n",
       "    }\n",
       "</style>\n",
       "<table border=\"1\" class=\"dataframe\">\n",
       "  <thead>\n",
       "    <tr style=\"text-align: right;\">\n",
       "      <th></th>\n",
       "      <th>steam_appid</th>\n",
       "      <th>required_age</th>\n",
       "      <th>n_achievements</th>\n",
       "      <th>total_reviews</th>\n",
       "      <th>total_positive</th>\n",
       "      <th>total_negative</th>\n",
       "      <th>review_score</th>\n",
       "      <th>positive_percentual</th>\n",
       "      <th>metacritic</th>\n",
       "      <th>price_initial (USD)</th>\n",
       "    </tr>\n",
       "  </thead>\n",
       "  <tbody>\n",
       "    <tr>\n",
       "      <th>count</th>\n",
       "      <td>7.142900e+04</td>\n",
       "      <td>71429.000000</td>\n",
       "      <td>71429.000000</td>\n",
       "      <td>7.142900e+04</td>\n",
       "      <td>7.142900e+04</td>\n",
       "      <td>71429.000000</td>\n",
       "      <td>71429.000000</td>\n",
       "      <td>71429.000000</td>\n",
       "      <td>71429.000000</td>\n",
       "      <td>71429.000000</td>\n",
       "    </tr>\n",
       "    <tr>\n",
       "      <th>mean</th>\n",
       "      <td>1.613700e+06</td>\n",
       "      <td>2.573227</td>\n",
       "      <td>16.079478</td>\n",
       "      <td>4.102497e+02</td>\n",
       "      <td>3.602238e+02</td>\n",
       "      <td>50.025886</td>\n",
       "      <td>2.192849</td>\n",
       "      <td>46.113290</td>\n",
       "      <td>2.573227</td>\n",
       "      <td>6.528184</td>\n",
       "    </tr>\n",
       "    <tr>\n",
       "      <th>std</th>\n",
       "      <td>8.625559e+05</td>\n",
       "      <td>13.591997</td>\n",
       "      <td>138.084319</td>\n",
       "      <td>8.389934e+03</td>\n",
       "      <td>7.409672e+03</td>\n",
       "      <td>1171.055349</td>\n",
       "      <td>3.175885</td>\n",
       "      <td>41.961702</td>\n",
       "      <td>13.591997</td>\n",
       "      <td>13.186426</td>\n",
       "    </tr>\n",
       "    <tr>\n",
       "      <th>min</th>\n",
       "      <td>7.300000e+02</td>\n",
       "      <td>0.000000</td>\n",
       "      <td>0.000000</td>\n",
       "      <td>0.000000e+00</td>\n",
       "      <td>0.000000e+00</td>\n",
       "      <td>0.000000</td>\n",
       "      <td>0.000000</td>\n",
       "      <td>0.000000</td>\n",
       "      <td>0.000000</td>\n",
       "      <td>0.000000</td>\n",
       "    </tr>\n",
       "    <tr>\n",
       "      <th>25%</th>\n",
       "      <td>9.296400e+05</td>\n",
       "      <td>0.000000</td>\n",
       "      <td>0.000000</td>\n",
       "      <td>0.000000e+00</td>\n",
       "      <td>0.000000e+00</td>\n",
       "      <td>0.000000</td>\n",
       "      <td>0.000000</td>\n",
       "      <td>0.000000</td>\n",
       "      <td>0.000000</td>\n",
       "      <td>0.000000</td>\n",
       "    </tr>\n",
       "    <tr>\n",
       "      <th>50%</th>\n",
       "      <td>1.533470e+06</td>\n",
       "      <td>0.000000</td>\n",
       "      <td>0.000000</td>\n",
       "      <td>2.000000e+00</td>\n",
       "      <td>2.000000e+00</td>\n",
       "      <td>0.000000</td>\n",
       "      <td>0.000000</td>\n",
       "      <td>50.000000</td>\n",
       "      <td>0.000000</td>\n",
       "      <td>2.990000</td>\n",
       "    </tr>\n",
       "    <tr>\n",
       "      <th>75%</th>\n",
       "      <td>2.383530e+06</td>\n",
       "      <td>0.000000</td>\n",
       "      <td>16.000000</td>\n",
       "      <td>1.900000e+01</td>\n",
       "      <td>1.400000e+01</td>\n",
       "      <td>4.000000</td>\n",
       "      <td>5.000000</td>\n",
       "      <td>88.000000</td>\n",
       "      <td>0.000000</td>\n",
       "      <td>9.990000</td>\n",
       "    </tr>\n",
       "    <tr>\n",
       "      <th>max</th>\n",
       "      <td>3.430140e+06</td>\n",
       "      <td>97.000000</td>\n",
       "      <td>9821.000000</td>\n",
       "      <td>1.279700e+06</td>\n",
       "      <td>1.107275e+06</td>\n",
       "      <td>172425.000000</td>\n",
       "      <td>9.000000</td>\n",
       "      <td>100.000000</td>\n",
       "      <td>97.000000</td>\n",
       "      <td>999.980000</td>\n",
       "    </tr>\n",
       "  </tbody>\n",
       "</table>\n",
       "</div>"
      ],
      "text/plain": [
       "        steam_appid  required_age  n_achievements  total_reviews  \\\n",
       "count  7.142900e+04  71429.000000    71429.000000   7.142900e+04   \n",
       "mean   1.613700e+06      2.573227       16.079478   4.102497e+02   \n",
       "std    8.625559e+05     13.591997      138.084319   8.389934e+03   \n",
       "min    7.300000e+02      0.000000        0.000000   0.000000e+00   \n",
       "25%    9.296400e+05      0.000000        0.000000   0.000000e+00   \n",
       "50%    1.533470e+06      0.000000        0.000000   2.000000e+00   \n",
       "75%    2.383530e+06      0.000000       16.000000   1.900000e+01   \n",
       "max    3.430140e+06     97.000000     9821.000000   1.279700e+06   \n",
       "\n",
       "       total_positive  total_negative  review_score  positive_percentual  \\\n",
       "count    7.142900e+04    71429.000000  71429.000000         71429.000000   \n",
       "mean     3.602238e+02       50.025886      2.192849            46.113290   \n",
       "std      7.409672e+03     1171.055349      3.175885            41.961702   \n",
       "min      0.000000e+00        0.000000      0.000000             0.000000   \n",
       "25%      0.000000e+00        0.000000      0.000000             0.000000   \n",
       "50%      2.000000e+00        0.000000      0.000000            50.000000   \n",
       "75%      1.400000e+01        4.000000      5.000000            88.000000   \n",
       "max      1.107275e+06   172425.000000      9.000000           100.000000   \n",
       "\n",
       "         metacritic  price_initial (USD)  \n",
       "count  71429.000000         71429.000000  \n",
       "mean       2.573227             6.528184  \n",
       "std       13.591997            13.186426  \n",
       "min        0.000000             0.000000  \n",
       "25%        0.000000             0.000000  \n",
       "50%        0.000000             2.990000  \n",
       "75%        0.000000             9.990000  \n",
       "max       97.000000           999.980000  "
      ]
     },
     "execution_count": 8,
     "metadata": {},
     "output_type": "execute_result"
    }
   ],
   "source": [
    "data.describe()"
   ]
  },
  {
   "cell_type": "code",
   "execution_count": null,
   "id": "07898b72",
   "metadata": {},
   "outputs": [],
   "source": []
  }
 ],
 "metadata": {
  "kernelspec": {
   "display_name": "basic2",
   "language": "python",
   "name": "python3"
  },
  "language_info": {
   "codemirror_mode": {
    "name": "ipython",
    "version": 3
   },
   "file_extension": ".py",
   "mimetype": "text/x-python",
   "name": "python",
   "nbconvert_exporter": "python",
   "pygments_lexer": "ipython3",
   "version": "3.11.13"
  }
 },
 "nbformat": 4,
 "nbformat_minor": 5
}
